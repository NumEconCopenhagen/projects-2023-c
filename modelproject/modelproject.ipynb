{
 "cells": [
  {
   "attachments": {},
   "cell_type": "markdown",
   "metadata": {},
   "source": [
    "# The Solow model with human capital"
   ]
  },
  {
   "attachments": {},
   "cell_type": "markdown",
   "metadata": {},
   "source": [
    "Imports and set magics:"
   ]
  },
  {
   "cell_type": "code",
   "execution_count": 228,
   "metadata": {},
   "outputs": [
    {
     "name": "stdout",
     "output_type": "stream",
     "text": [
      "The autoreload extension is already loaded. To reload it, use:\n",
      "  %reload_ext autoreload\n"
     ]
    }
   ],
   "source": [
    "import numpy as np\n",
    "from scipy import linalg\n",
    "from scipy import optimize\n",
    "import sympy as sm\n",
    "import matplotlib.pyplot as plt\n",
    "import ipywidgets as widgets\n",
    "from IPython.display import display\n",
    "\n",
    "# autoreload modules when code is run\n",
    "%load_ext autoreload\n",
    "%autoreload 2\n",
    "\n",
    "# local modules\n",
    "import modelproject as mp"
   ]
  },
  {
   "attachments": {},
   "cell_type": "markdown",
   "metadata": {},
   "source": [
    "# Model description"
   ]
  },
  {
   "attachments": {},
   "cell_type": "markdown",
   "metadata": {},
   "source": [
    "The following model and definitions should be consistent with Sørensen & Whitta-Jacobsen: “Introducing Advanced Macroeconomics: Growth and Business Cycles”.\n",
    "\n",
    "I assume the model follows the Coob-Douglas production function. It is defined as:\n",
    "\n",
    "$Y_{t}=K_{t}^{\\alpha}H_{t}^{\\varphi}\\left(A_{t}L_{t}\\right)^{1-\\alpha-\\varphi},\\alpha+\\varphi<1,0<\\alpha<1,0<\\varphi<1$\n",
    "\n",
    "The total production is thus given as a function of physical- and human capital, the level of technology and labor.\n",
    "\n",
    "The following two equations describes how physical- and human capital grows over time.\n",
    "\n",
    "$K_{t+1}=s_{K}Y_{t}+\\left(1-\\delta\\right)K_{t},0<s_{K}<1,0<\\delta<1,0<K_{0}$\n",
    "\n",
    "\n",
    "$H_{t+1}=s_{H}Y_{t}+\\left(1-\\delta\\right)H_{t},0<\\delta<1,0<s_{H}<1,0<H_{0}$\n",
    "\n",
    "Here $\\delta$ is the depreciation rate. $s_{H}$ and $s_{K}$ denotes the saving rates\n",
    "\n",
    "The next two equations shows how the technology and labor grows\n",
    "\n",
    "$A_{t+1}=\\left(1+g\\right)A_{t},0<g,0<A_{0}$\n",
    "\n",
    "$L_{t+1}=\\left(1+n\\right)L_{t},-1<n,0<L_{0}$\n",
    "\n",
    "Technology grows with a constant rate of $g$, labor with $n$.\n",
    "\n",
    "\n",
    "Using the following definitions I can find the models transition equations.\n",
    "\n",
    "$\\tilde{k_{t}}\\equiv\\frac{k_{t}}{A_{t}L_{t}},\\tilde{h_{t}}\\equiv\\frac{h_{t}}{A_{t}L_{t}},\\tilde{y_{t}}\\equiv\\frac{y_{t}}{A_{t}L_{t}}$\n",
    "\n",
    "\n",
    "The transition equations are then\n",
    "\n",
    "$\\tilde{k}_{t+1}=\\frac{1}{\\left(1+n\\right)\\left(1+g\\right)}\\left(s_{K}\\tilde{k}_{t}^{\\alpha}\\tilde{h}_{t}^{\\varphi}+\\left(1-\\delta\\right)\\tilde{k}_{t}\\right)$\n",
    "\n",
    "$\\tilde{h}_{t+1}=\\frac{1}{\\left(1+n\\right)\\left(1+g\\right)}\\left(s_{H}\\tilde{k}_{t}^{\\alpha}\\tilde{h}_{t}^{\\varphi}+\\left(1-\\delta\\right)\\tilde{h}_{t}\\right)$\n",
    "\n"
   ]
  },
  {
   "attachments": {},
   "cell_type": "markdown",
   "metadata": {},
   "source": [
    "## Analytical solution"
   ]
  },
  {
   "attachments": {},
   "cell_type": "markdown",
   "metadata": {},
   "source": [
    "I first define the model paramters in sympy, then I try solving it. "
   ]
  },
  {
   "cell_type": "code",
   "execution_count": 229,
   "metadata": {},
   "outputs": [],
   "source": [
    "# Define parameters\n",
    "k = sm.symbols('k')\n",
    "h = sm.symbols('h')\n",
    "alpha = sm.symbols('alpha')\n",
    "delta = sm.symbols('delta')\n",
    "phi = sm.symbols('phi')\n",
    "s_K = sm.symbols('s_K')\n",
    "s_H = sm.symbols('s_H')\n",
    "g = sm.symbols('g')\n",
    "n = sm.symbols('n')\n",
    "param = [k, h, alpha, delta, phi, s_K, s_H, g, n]"
   ]
  },
  {
   "cell_type": "code",
   "execution_count": 230,
   "metadata": {},
   "outputs": [
    {
     "name": "stdout",
     "output_type": "stream",
     "text": [
      "nullcline for k = [(k**(1 - alpha)*(delta + g*n + g + n)/s_K)**(1/phi)]\n",
      "nullcline for h = [((delta + g*n + g + n)/(k**alpha*s_H))**(1/(phi - 1))]\n"
     ]
    }
   ],
   "source": [
    "# Call the function\n",
    "nullcline_k, nullcline_h = mp.nullclines(param)\n",
    "\n",
    "# Print the results\n",
    "print(\"nullcline for k =\", nullcline_k)\n",
    "print(\"nullcline for h =\", nullcline_h)"
   ]
  },
  {
   "attachments": {},
   "cell_type": "markdown",
   "metadata": {},
   "source": [
    "The two nullclines is found to be:\n",
    "\n",
    "$\\tilde{h_{t}}=\\left(\\frac{n+g+\\delta+ng}{s_{K}}\\right)^{\\frac{1}{\\varphi}}\\tilde{k}_{t}^{\\frac{1-\\alpha}{\\varphi}},\\Delta\\tilde{k}_{t}=0$\n",
    "\n",
    "$\\tilde{h_{t}}=\\left(\\frac{s_{H}}{n+g+\\delta+ng}\\right)^{\\frac{1}{1-\\varphi}}\\tilde{k}_{t}^{\\frac{\\alpha}{1-\\varphi}},\\Delta\\tilde{h}_{t}=0$"
   ]
  },
  {
   "attachments": {},
   "cell_type": "markdown",
   "metadata": {},
   "source": [
    "The analytical solution for the steady state in the Solow model with human capital is:\n",
    "\n",
    "$\\tilde{k}^{*}=\\left(\\frac{s_{K}^{1-\\varphi}s_{H}^{\\varphi}}{n+g+\\delta+ng}\\right)^{\\frac{1}{1-\\alpha-\\varphi}}$\n",
    "\n",
    "$\\tilde{h}^{*}=\\left(\\frac{s_{K}^{\\alpha}s_{H}^{1-\\alpha}}{n+g+\\delta+ng}\\right)^{\\frac{1}{1-\\alpha-\\varphi}}$\n",
    "\n",
    "I could unfortunately not figure how to solve two equations with two unknown with sympy.\n",
    "\n",
    "The steady state equations can be turned into python functions"
   ]
  },
  {
   "cell_type": "code",
   "execution_count": 231,
   "metadata": {},
   "outputs": [],
   "source": [
    "# Defining SS solutions\n",
    "kss = ((s_K**(1-phi) * s_H**phi) / ((n+g+delta+n*g)))**(1 / (1-alpha-phi))\n",
    "hss = ((s_K**(alpha) * s_H**(1-alpha)) / ((n+g+delta+n*g)))**(1 / (1-alpha-phi))\n",
    "\n",
    "# Turing solutions into Python functions\n",
    "kss_func = sm.lambdify((s_K,s_H,g,n,delta,phi,alpha),kss)\n",
    "hss_func = sm.lambdify((s_K,s_H,g,n,delta,phi,alpha),hss)\n"
   ]
  },
  {
   "attachments": {},
   "cell_type": "markdown",
   "metadata": {},
   "source": [
    "Now i evaluate the models with parameter vaules of\n",
    "\n",
    "$s_{K}=0.25,s_{H}=0.13,g=0.02,n=0.01,\\delta=0.1,\\varphi=\\alpha=\\frac{1}{3}$\n"
   ]
  },
  {
   "cell_type": "code",
   "execution_count": 232,
   "metadata": {},
   "outputs": [
    {
     "name": "stdout",
     "output_type": "stream",
     "text": [
      "the steady state for k is 3.6812085067995786\n",
      "the steady state for h is 1.914228423535781\n"
     ]
    }
   ],
   "source": [
    "# Call the functions with values of the parameters\n",
    "print('the steady state for k is',kss_func(0.25,0.13,0.02,0.01,0.1,1/3,1/3))\n",
    "print('the steady state for h is',hss_func(0.25,0.13,0.02,0.01,0.1,1/3,1/3))"
   ]
  },
  {
   "attachments": {},
   "cell_type": "markdown",
   "metadata": {},
   "source": [
    "## Numerical solution"
   ]
  },
  {
   "attachments": {},
   "cell_type": "markdown",
   "metadata": {},
   "source": [
    "I will now solve the model numerically and compare it with the analytical solution. First i define the parameters, then I solve the model numerically. "
   ]
  },
  {
   "cell_type": "code",
   "execution_count": 233,
   "metadata": {},
   "outputs": [],
   "source": [
    "s_K = 0.25\n",
    "s_H = 0.13\n",
    "g = 0.02\n",
    "n = 0.01\n",
    "delta = 0.1\n",
    "phi = 1/3\n",
    "alpha = 1/3"
   ]
  },
  {
   "cell_type": "code",
   "execution_count": 234,
   "metadata": {},
   "outputs": [
    {
     "name": "stdout",
     "output_type": "stream",
     "text": [
      "Steady state values: k = 3.681208506799576, h = 1.9142284235357794\n"
     ]
    }
   ],
   "source": [
    "# Define function to find steady state\n",
    "def ss_func(x, s_K, s_H, g, n, delta, phi, alpha):\n",
    "    k, h = x\n",
    "    eq1 = (s_K*k**alpha*h**phi + (1-delta)*k) / ((1+n)*(1+g)) - k\n",
    "    eq2 = (s_H*k**alpha*h**phi + (1-delta)*h) / ((1+n)*(1+g)) - h\n",
    "    return [eq1, eq2]\n",
    "\n",
    "# Initial guess for k and h\n",
    "x0 = [1, 1]\n",
    "\n",
    "# Find steady state using root function\n",
    "ss = root(ss_func, x0, args=(s_K, s_H, g, n, delta, phi, alpha))\n",
    "\n",
    "# Print steady state values\n",
    "print(f\"Steady state values: k = {ss.x[0]}, h = {ss.x[1]}\")"
   ]
  },
  {
   "attachments": {},
   "cell_type": "markdown",
   "metadata": {},
   "source": [
    "# Further analysis"
   ]
  },
  {
   "attachments": {},
   "cell_type": "markdown",
   "metadata": {},
   "source": [
    "I know test what happens with  different values for the savings rate for capital and for human capital."
   ]
  },
  {
   "cell_type": "code",
   "execution_count": 235,
   "metadata": {},
   "outputs": [
    {
     "data": {
      "application/vnd.jupyter.widget-view+json": {
       "model_id": "9545d9fde19b4600a7a6a3d71eed2eb6",
       "version_major": 2,
       "version_minor": 0
      },
      "text/plain": [
       "FloatSlider(value=0.25, description='s_K:', max=0.99, min=0.05, step=0.05)"
      ]
     },
     "metadata": {},
     "output_type": "display_data"
    },
    {
     "data": {
      "application/vnd.jupyter.widget-view+json": {
       "model_id": "b31d492a20a946b5ae7349298aa818db",
       "version_major": 2,
       "version_minor": 0
      },
      "text/plain": [
       "interactive(children=(FloatSlider(value=0.25, description='s_K:', max=0.99, min=0.05, step=0.05), Output()), _…"
      ]
     },
     "metadata": {},
     "output_type": "display_data"
    }
   ],
   "source": [
    "# Define parameters and time horizon\n",
    "alpha = 1/3\n",
    "delta = 0.1\n",
    "phi = 1/3\n",
    "s_K = 0.25\n",
    "s_H = 0.13\n",
    "n = 0.01\n",
    "g = 0.02\n",
    "k0 = 1\n",
    "h0 = 1\n",
    "T = 140\n",
    "\n",
    "# Define function to update the plot\n",
    "def update_plot(s_K):\n",
    "    # Calculate time series\n",
    "    k, h = mp.capital(s_K, s_H, n, delta, alpha, phi, k0, h0, T, g)\n",
    "\n",
    "    # Clear previous plot\n",
    "    plt.clf()\n",
    "\n",
    "    # Plot time series\n",
    "    fig, ax = plt.subplots(figsize=(10,6))\n",
    "    ax.plot(k, label='Capital')\n",
    "    ax.plot(h, label='Human Capital')\n",
    "    ax.set_xlabel('Periods')\n",
    "    ax.set_ylabel('Capital and human capital')\n",
    "    ax.set_title('Time series of the Solow model with human capital')\n",
    "    ax.legend()\n",
    "    plt.show()\n",
    "\n",
    "# Create slider widget\n",
    "s_K_widget = widgets.FloatSlider(\n",
    "    value=s_K,\n",
    "    min=0.05,\n",
    "    max=0.99,\n",
    "    step=0.05,\n",
    "    description='s_K:'\n",
    ")\n",
    "\n",
    "# Display slider widget and plot\n",
    "display(s_K_widget)\n",
    "widgets.interactive(update_plot, s_K=s_K_widget)"
   ]
  },
  {
   "attachments": {},
   "cell_type": "markdown",
   "metadata": {},
   "source": [
    "A greater savings rate for capital results in higher steady state values for capital and human capital."
   ]
  },
  {
   "cell_type": "code",
   "execution_count": 236,
   "metadata": {},
   "outputs": [
    {
     "data": {
      "application/vnd.jupyter.widget-view+json": {
       "model_id": "546461b9d4c84da5bc3fdc35e79f6519",
       "version_major": 2,
       "version_minor": 0
      },
      "text/plain": [
       "FloatSlider(value=0.13, description='s_H:', max=0.99, min=0.05, step=0.05)"
      ]
     },
     "metadata": {},
     "output_type": "display_data"
    },
    {
     "data": {
      "application/vnd.jupyter.widget-view+json": {
       "model_id": "781ff807640d442d98c9ebb9167aadd8",
       "version_major": 2,
       "version_minor": 0
      },
      "text/plain": [
       "interactive(children=(FloatSlider(value=0.13, description='s_H:', max=0.99, min=0.05, step=0.05), Output()), _…"
      ]
     },
     "metadata": {},
     "output_type": "display_data"
    }
   ],
   "source": [
    "# Define function to update the plot\n",
    "def update_plot(s_H):\n",
    "    # Calculate time series\n",
    "    k, h = mp.capital(s_K, s_H, n, delta, alpha, phi, k0, h0, T, g)\n",
    "\n",
    "    # Clear previous plot\n",
    "    plt.clf()\n",
    "\n",
    "    # Plot time series\n",
    "    fig, ax = plt.subplots(figsize=(10,6))\n",
    "    ax.plot(k, label='Capital')\n",
    "    ax.plot(h, label='Human Capital')\n",
    "    ax.set_xlabel('Periods')\n",
    "    ax.set_ylabel('Capital and human capital')\n",
    "    ax.set_title('Time series of the Solow model with human capital')\n",
    "    ax.legend()\n",
    "    plt.show()\n",
    "\n",
    "# Create slider widget\n",
    "s_H_widget = widgets.FloatSlider(\n",
    "    value=s_H,\n",
    "    min=0.05,\n",
    "    max=0.99,\n",
    "    step=0.05,\n",
    "    description='s_H:'\n",
    ")\n",
    "\n",
    "# Display slider widget and plot\n",
    "display(s_H_widget)\n",
    "widgets.interactive(update_plot, s_H=s_H_widget)"
   ]
  },
  {
   "attachments": {},
   "cell_type": "markdown",
   "metadata": {},
   "source": [
    "A higher savings rate for human capital leads also to higher steady state values of capital and human capital."
   ]
  },
  {
   "attachments": {},
   "cell_type": "markdown",
   "metadata": {},
   "source": [
    "# Conclusion"
   ]
  },
  {
   "attachments": {},
   "cell_type": "markdown",
   "metadata": {},
   "source": [
    "After solving the Solow model with human capital both analytically and numerically I find that a higher savingsrate for either capital or human capital, ceteris paribus, leads to greater values of both capital and human capital in steady state. This might be explained by cross-effects and self-reinforcing effects between physical capital and human capital."
   ]
  }
 ],
 "metadata": {
  "kernelspec": {
   "display_name": "base",
   "language": "python",
   "name": "python3"
  },
  "language_info": {
   "codemirror_mode": {
    "name": "ipython",
    "version": 3
   },
   "file_extension": ".py",
   "mimetype": "text/x-python",
   "name": "python",
   "nbconvert_exporter": "python",
   "pygments_lexer": "ipython3",
   "version": "3.9.16"
  },
  "toc-autonumbering": true,
  "vscode": {
   "interpreter": {
    "hash": "47ef90cdf3004d3f859f1fb202523c65c07ba7c22eefd261b181f4744e2d0403"
   }
  }
 },
 "nbformat": 4,
 "nbformat_minor": 4
}
